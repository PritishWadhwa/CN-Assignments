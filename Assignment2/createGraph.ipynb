{
 "cells": [
  {
   "cell_type": "code",
   "execution_count": 57,
   "source": [
    "import pandas as pd\n",
    "import matplotlib.pyplot as plt\n",
    "plt.style.use('seaborn')\n",
    "plt.style.use('ggplot')\n",
    "plt.style.use('dark_background')"
   ],
   "outputs": [],
   "metadata": {}
  },
  {
   "cell_type": "code",
   "execution_count": 58,
   "source": [
    "df = pd.read_csv('ServerSideThroughputData.csv')"
   ],
   "outputs": [],
   "metadata": {}
  },
  {
   "cell_type": "code",
   "execution_count": 59,
   "source": [
    "df.head()"
   ],
   "outputs": [
    {
     "output_type": "execute_result",
     "data": {
      "text/html": [
       "<div>\n",
       "<style scoped>\n",
       "    .dataframe tbody tr th:only-of-type {\n",
       "        vertical-align: middle;\n",
       "    }\n",
       "\n",
       "    .dataframe tbody tr th {\n",
       "        vertical-align: top;\n",
       "    }\n",
       "\n",
       "    .dataframe thead th {\n",
       "        text-align: right;\n",
       "    }\n",
       "</style>\n",
       "<table border=\"1\" class=\"dataframe\">\n",
       "  <thead>\n",
       "    <tr style=\"text-align: right;\">\n",
       "      <th></th>\n",
       "      <th>No.</th>\n",
       "      <th>Time</th>\n",
       "      <th>Source</th>\n",
       "      <th>Destination</th>\n",
       "      <th>Protocol</th>\n",
       "      <th>Length</th>\n",
       "      <th>Info</th>\n",
       "    </tr>\n",
       "  </thead>\n",
       "  <tbody>\n",
       "    <tr>\n",
       "      <th>0</th>\n",
       "      <td>1</td>\n",
       "      <td>0.000000</td>\n",
       "      <td>127.0.0.1</td>\n",
       "      <td>127.0.0.1</td>\n",
       "      <td>TCP</td>\n",
       "      <td>74</td>\n",
       "      <td>60668  &gt;  8080 [SYN] Seq=0 Win=65495 Len=0 MSS...</td>\n",
       "    </tr>\n",
       "    <tr>\n",
       "      <th>1</th>\n",
       "      <td>3</td>\n",
       "      <td>0.000014</td>\n",
       "      <td>127.0.0.1</td>\n",
       "      <td>127.0.0.1</td>\n",
       "      <td>TCP</td>\n",
       "      <td>66</td>\n",
       "      <td>60668  &gt;  8080 [ACK] Seq=1 Ack=1 Win=65536 Len...</td>\n",
       "    </tr>\n",
       "    <tr>\n",
       "      <th>2</th>\n",
       "      <td>4</td>\n",
       "      <td>0.000041</td>\n",
       "      <td>127.0.0.1</td>\n",
       "      <td>127.0.0.1</td>\n",
       "      <td>TCP</td>\n",
       "      <td>70</td>\n",
       "      <td>60668  &gt;  8080 [PSH, ACK] Seq=1 Ack=1 Win=6553...</td>\n",
       "    </tr>\n",
       "    <tr>\n",
       "      <th>3</th>\n",
       "      <td>6</td>\n",
       "      <td>0.000048</td>\n",
       "      <td>127.0.0.1</td>\n",
       "      <td>127.0.0.1</td>\n",
       "      <td>TCP</td>\n",
       "      <td>68</td>\n",
       "      <td>60668  &gt;  8080 [PSH, ACK] Seq=5 Ack=1 Win=6553...</td>\n",
       "    </tr>\n",
       "    <tr>\n",
       "      <th>4</th>\n",
       "      <td>9</td>\n",
       "      <td>0.002414</td>\n",
       "      <td>127.0.0.1</td>\n",
       "      <td>127.0.0.1</td>\n",
       "      <td>TCP</td>\n",
       "      <td>66</td>\n",
       "      <td>60668  &gt;  8080 [ACK] Seq=7 Ack=13 Win=65536 Le...</td>\n",
       "    </tr>\n",
       "  </tbody>\n",
       "</table>\n",
       "</div>"
      ],
      "text/plain": [
       "   No.      Time     Source Destination Protocol  Length  \\\n",
       "0    1  0.000000  127.0.0.1   127.0.0.1      TCP      74   \n",
       "1    3  0.000014  127.0.0.1   127.0.0.1      TCP      66   \n",
       "2    4  0.000041  127.0.0.1   127.0.0.1      TCP      70   \n",
       "3    6  0.000048  127.0.0.1   127.0.0.1      TCP      68   \n",
       "4    9  0.002414  127.0.0.1   127.0.0.1      TCP      66   \n",
       "\n",
       "                                                Info  \n",
       "0  60668  >  8080 [SYN] Seq=0 Win=65495 Len=0 MSS...  \n",
       "1  60668  >  8080 [ACK] Seq=1 Ack=1 Win=65536 Len...  \n",
       "2  60668  >  8080 [PSH, ACK] Seq=1 Ack=1 Win=6553...  \n",
       "3  60668  >  8080 [PSH, ACK] Seq=5 Ack=1 Win=6553...  \n",
       "4  60668  >  8080 [ACK] Seq=7 Ack=13 Win=65536 Le...  "
      ]
     },
     "metadata": {},
     "execution_count": 59
    }
   ],
   "metadata": {}
  },
  {
   "cell_type": "code",
   "execution_count": 60,
   "source": [
    "df.size"
   ],
   "outputs": [
    {
     "output_type": "execute_result",
     "data": {
      "text/plain": [
       "4599"
      ]
     },
     "metadata": {},
     "execution_count": 60
    }
   ],
   "metadata": {}
  },
  {
   "cell_type": "code",
   "execution_count": 61,
   "source": [
    "df.drop(['No.', 'Source', 'Destination', 'Protocol', 'Info'], axis=1, inplace=True)"
   ],
   "outputs": [],
   "metadata": {}
  },
  {
   "cell_type": "code",
   "execution_count": 62,
   "source": [
    "df.head()"
   ],
   "outputs": [
    {
     "output_type": "execute_result",
     "data": {
      "text/html": [
       "<div>\n",
       "<style scoped>\n",
       "    .dataframe tbody tr th:only-of-type {\n",
       "        vertical-align: middle;\n",
       "    }\n",
       "\n",
       "    .dataframe tbody tr th {\n",
       "        vertical-align: top;\n",
       "    }\n",
       "\n",
       "    .dataframe thead th {\n",
       "        text-align: right;\n",
       "    }\n",
       "</style>\n",
       "<table border=\"1\" class=\"dataframe\">\n",
       "  <thead>\n",
       "    <tr style=\"text-align: right;\">\n",
       "      <th></th>\n",
       "      <th>Time</th>\n",
       "      <th>Length</th>\n",
       "    </tr>\n",
       "  </thead>\n",
       "  <tbody>\n",
       "    <tr>\n",
       "      <th>0</th>\n",
       "      <td>0.000000</td>\n",
       "      <td>74</td>\n",
       "    </tr>\n",
       "    <tr>\n",
       "      <th>1</th>\n",
       "      <td>0.000014</td>\n",
       "      <td>66</td>\n",
       "    </tr>\n",
       "    <tr>\n",
       "      <th>2</th>\n",
       "      <td>0.000041</td>\n",
       "      <td>70</td>\n",
       "    </tr>\n",
       "    <tr>\n",
       "      <th>3</th>\n",
       "      <td>0.000048</td>\n",
       "      <td>68</td>\n",
       "    </tr>\n",
       "    <tr>\n",
       "      <th>4</th>\n",
       "      <td>0.002414</td>\n",
       "      <td>66</td>\n",
       "    </tr>\n",
       "  </tbody>\n",
       "</table>\n",
       "</div>"
      ],
      "text/plain": [
       "       Time  Length\n",
       "0  0.000000      74\n",
       "1  0.000014      66\n",
       "2  0.000041      70\n",
       "3  0.000048      68\n",
       "4  0.002414      66"
      ]
     },
     "metadata": {},
     "execution_count": 62
    }
   ],
   "metadata": {}
  },
  {
   "cell_type": "code",
   "execution_count": 63,
   "source": [
    "df.shape"
   ],
   "outputs": [
    {
     "output_type": "execute_result",
     "data": {
      "text/plain": [
       "(657, 2)"
      ]
     },
     "metadata": {},
     "execution_count": 63
    }
   ],
   "metadata": {}
  },
  {
   "cell_type": "code",
   "execution_count": 64,
   "source": [
    "df.iloc[600]"
   ],
   "outputs": [
    {
     "output_type": "execute_result",
     "data": {
      "text/plain": [
       "Time      110.894089\n",
       "Length     66.000000\n",
       "Name: 600, dtype: float64"
      ]
     },
     "metadata": {},
     "execution_count": 64
    }
   ],
   "metadata": {}
  },
  {
   "cell_type": "code",
   "execution_count": 65,
   "source": [
    "curr = 0\n",
    "last = 0\n",
    "currTime = 0\n",
    "currThroughput = 0\n",
    "time = []\n",
    "throughPut = []\n",
    "for i, j in df.iterrows():\n",
    "    if curr - last > 2:\n",
    "        time.append(currTime)\n",
    "        throughPut.append(currThroughput/(curr-last))\n",
    "        last = curr\n",
    "        currTime += 2\n",
    "        currThroughput = 0\n",
    "    currThroughput += j['Length']\n",
    "    curr = j['Time']\n",
    "# time.append(currTime)\n",
    "# throughPut.append(currThroughput/(curr-last))"
   ],
   "outputs": [],
   "metadata": {}
  },
  {
   "cell_type": "code",
   "execution_count": 66,
   "source": [
    "len(time)"
   ],
   "outputs": [
    {
     "output_type": "execute_result",
     "data": {
      "text/plain": [
       "60"
      ]
     },
     "metadata": {},
     "execution_count": 66
    }
   ],
   "metadata": {}
  },
  {
   "cell_type": "code",
   "execution_count": 67,
   "source": [
    "print(time)"
   ],
   "outputs": [
    {
     "output_type": "stream",
     "name": "stdout",
     "text": [
      "[0, 2, 4, 6, 8, 10, 12, 14, 16, 18, 20, 22, 24, 26, 28, 30, 32, 34, 36, 38, 40, 42, 44, 46, 48, 50, 52, 54, 56, 58, 60, 62, 64, 66, 68, 70, 72, 74, 76, 78, 80, 82, 84, 86, 88, 90, 92, 94, 96, 98, 100, 102, 104, 106, 108, 110, 112, 114, 116, 118]\n"
     ]
    }
   ],
   "metadata": {}
  },
  {
   "cell_type": "code",
   "execution_count": 68,
   "source": [
    "len(throughPut)"
   ],
   "outputs": [
    {
     "output_type": "execute_result",
     "data": {
      "text/plain": [
       "60"
      ]
     },
     "metadata": {},
     "execution_count": 68
    }
   ],
   "metadata": {}
  },
  {
   "cell_type": "code",
   "execution_count": 69,
   "source": [
    "print(throughPut)"
   ],
   "outputs": [
    {
     "output_type": "stream",
     "name": "stdout",
     "text": [
      "[271.286259199727, 377.9408025788384, 377.2904826773228, 375.0239167067643, 375.8685122960452, 377.7779206262607, 345.4297845505676, 376.6723913264106, 377.67581241087134, 377.6430356469294, 377.5425888430487, 378.0036829559472, 377.2262798303463, 376.9137073466475, 377.36484887323013, 377.4809320417908, 377.60255421522095, 376.75842545176243, 377.9801576698678, 378.2348520813558, 376.2030919884951, 377.24548546634367, 377.38726492977565, 377.1526230041624, 378.4048692995366, 377.84310289474945, 377.6084032348845, 377.5579242384282, 377.49651148206516, 375.1939442084221, 377.15268356539224, 375.8704725497707, 376.72580715974414, 377.51381138991684, 344.3261433012593, 378.262386582596, 377.8677466372492, 376.9899480044244, 378.1069307973773, 344.6046486278554, 378.0785043458415, 377.6613395098038, 377.203572339692, 376.85656766238384, 375.6909492199645, 378.2789450096275, 378.00378415962155, 377.9364455626883, 378.23851344108857, 377.85361210950595, 378.16175909794606, 378.8010243735413, 378.7438531894506, 377.72504428420433, 377.3602536326615, 377.659278816948, 376.86520668590464, 376.075309079655, 377.09393242815514, 377.42547341103324]\n"
     ]
    }
   ],
   "metadata": {}
  },
  {
   "cell_type": "code",
   "execution_count": 70,
   "source": [
    "plt.plot(time, throughPut, 'r', label='Throughput')\n",
    "plt.xlabel('Time')\n",
    "plt.ylabel('Throughput')\n",
    "plt.title('Throughput vs Time (considering 0)')\n",
    "plt.legend()\n",
    "plt.savefig('Throughput vs Time (considering 0).png')\n",
    "plt.show()"
   ],
   "outputs": [
    {
     "output_type": "display_data",
     "data": {
      "image/png": "[encoded data removed]",
      "text/plain": [
       "<Figure size 576x396 with 1 Axes>"
      ]
     },
     "metadata": {}
    }
   ],
   "metadata": {}
  },
  {
   "cell_type": "code",
   "execution_count": 71,
   "source": [
    "time = time[1:]\n",
    "throughPut = throughPut[1:]"
   ],
   "outputs": [],
   "metadata": {}
  },
  {
   "cell_type": "code",
   "execution_count": 72,
   "source": [
    "plt.plot(time, throughPut, 'r', label='Throughput')\n",
    "plt.xlabel('Time')\n",
    "plt.ylabel('Throughput')\n",
    "plt.title('Throughput vs Time (not considering 0)')\n",
    "plt.legend()\n",
    "plt.savefig('Throughput vs Time (not considering 0).png')\n",
    "plt.show()"
   ],
   "outputs": [
    {
     "output_type": "display_data",
     "data": {
      "image/png": "[encoded data removed]",
      "text/plain": [
       "<Figure size 576x396 with 1 Axes>"
      ]
     },
     "metadata": {}
    }
   ],
   "metadata": {}
  },
  {
   "cell_type": "code",
   "execution_count": null,
   "source": [],
   "outputs": [],
   "metadata": {}
  }
 ],
 "metadata": {
  "orig_nbformat": 4,
  "language_info": {
   "name": "python",
   "version": "3.9.1",
   "mimetype": "text/x-python",
   "codemirror_mode": {
    "name": "ipython",
    "version": 3
   },
   "pygments_lexer": "ipython3",
   "nbconvert_exporter": "python",
   "file_extension": ".py"
  },
  "kernelspec": {
   "name": "python3",
   "display_name": "Python 3.9.1 64-bit"
  },
  "interpreter": {
   "hash": "aee8b7b246df8f9039afb4144a1f6fd8d2ca17a180786b69acc140d282b71a49"
  }
 },
 "nbformat": 4,
 "nbformat_minor": 2
}