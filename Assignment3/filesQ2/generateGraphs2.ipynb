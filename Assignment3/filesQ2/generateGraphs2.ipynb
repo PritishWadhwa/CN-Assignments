{
 "cells": [
  {
   "cell_type": "code",
   "execution_count": 1,
   "metadata": {},
   "outputs": [],
   "source": [
    "import numpy as np\n",
    "import pandas as pd\n",
    "import matplotlib.pyplot as plt\n",
    "plt.style.use('seaborn')\n",
    "plt.style.use('dark_background')"
   ]
  },
  {
   "cell_type": "code",
   "execution_count": 5,
   "metadata": {},
   "outputs": [
    {
     "ename": "KeyError",
     "evalue": "'353321'",
     "output_type": "error",
     "traceback": [
      "\u001b[0;31m---------------------------------------------------------------------------\u001b[0m",
      "\u001b[0;31mKeyError\u001b[0m                                  Traceback (most recent call last)",
      "\u001b[0;32m/tmp/ipykernel_11926/1527024980.py\u001b[0m in \u001b[0;36m<module>\u001b[0;34m\u001b[0m\n\u001b[1;32m     24\u001b[0m             \u001b[0mseqNoEnd\u001b[0m \u001b[0;34m=\u001b[0m \u001b[0mline\u001b[0m\u001b[0;34m.\u001b[0m\u001b[0mfind\u001b[0m\u001b[0;34m(\u001b[0m\u001b[0;34m' '\u001b[0m\u001b[0;34m,\u001b[0m \u001b[0mseqNoStart\u001b[0m\u001b[0;34m)\u001b[0m\u001b[0;34m\u001b[0m\u001b[0;34m\u001b[0m\u001b[0m\n\u001b[1;32m     25\u001b[0m             \u001b[0mseqNo\u001b[0m \u001b[0;34m=\u001b[0m \u001b[0mline\u001b[0m\u001b[0;34m[\u001b[0m\u001b[0mseqNoStart\u001b[0m\u001b[0;34m:\u001b[0m\u001b[0mseqNoEnd\u001b[0m\u001b[0;34m]\u001b[0m\u001b[0;34m\u001b[0m\u001b[0;34m\u001b[0m\u001b[0m\n\u001b[0;32m---> 26\u001b[0;31m             \u001b[0mseqDelay\u001b[0m\u001b[0;34m.\u001b[0m\u001b[0mappend\u001b[0m\u001b[0;34m(\u001b[0m\u001b[0mtime\u001b[0m \u001b[0;34m-\u001b[0m \u001b[0mitem\u001b[0m\u001b[0;34m[\u001b[0m\u001b[0mseqNo\u001b[0m\u001b[0;34m]\u001b[0m\u001b[0;34m)\u001b[0m\u001b[0;34m\u001b[0m\u001b[0;34m\u001b[0m\u001b[0m\n\u001b[0m\u001b[1;32m     27\u001b[0m             \u001b[0mseqEnd\u001b[0m\u001b[0;34m.\u001b[0m\u001b[0mappend\u001b[0m\u001b[0;34m(\u001b[0m\u001b[0mtime\u001b[0m\u001b[0;34m)\u001b[0m\u001b[0;34m\u001b[0m\u001b[0;34m\u001b[0m\u001b[0m\n\u001b[1;32m     28\u001b[0m             \u001b[0mitem\u001b[0m\u001b[0;34m.\u001b[0m\u001b[0mpop\u001b[0m\u001b[0;34m(\u001b[0m\u001b[0mseqNo\u001b[0m\u001b[0;34m)\u001b[0m\u001b[0;34m\u001b[0m\u001b[0;34m\u001b[0m\u001b[0m\n",
      "\u001b[0;31mKeyError\u001b[0m: '353321'"
     ]
    }
   ],
   "source": [
    "startTime = []\n",
    "endTime = []\n",
    "item = {}\n",
    "seqDelay = []\n",
    "seqEnd = []\n",
    "with open('tcp-example.tr', 'r') as file:\n",
    "    lines = file.readlines()\n",
    "    for line in lines:\n",
    "        if line[0] == '+':\n",
    "            timeStart = line.find('+ ') + 2\n",
    "            timeEnd = line.find(' ', timeStart)\n",
    "            time = float(line[timeStart:timeEnd])\n",
    "            startTime.append(time)\n",
    "            seqNoStart = line.find('Seq=') + 4\n",
    "            seqNoEnd = line.find(' ', seqNoStart)\n",
    "            seqNo = line[seqNoStart:seqNoEnd]\n",
    "            item[seqNo] = time\n",
    "        elif line[0] == '-':\n",
    "            timeStart = line.find('- ') + 2\n",
    "            timeEnd = line.find(' ', timeStart)\n",
    "            time = float(line[timeStart:timeEnd])\n",
    "            endTime.append(time)\n",
    "            seqNoStart = line.find('Seq=') + 4\n",
    "            seqNoEnd = line.find(' ', seqNoStart)\n",
    "            seqNo = line[seqNoStart:seqNoEnd]\n",
    "            seqDelay.append(time - item[seqNo])\n",
    "            seqEnd.append(time)\n",
    "            item.pop(seqNo)\n",
    "\n",
    "qtime = np.array(endTime) - np.array(startTime)\n",
    "# plt.plot(endTime, qtime, 'r', label='queing delay')\n",
    "# plt.plot(endTime, seqDelay, 'r', label='queing delay')\n",
    "plt.scatter(endTime, seqDelay, s=20, label='queing delay', color='r', marker='.')\n",
    "plt.xlabel('Time')\n",
    "plt.ylabel('Queing Delay')\n",
    "plt.title('TCP Queing Delay')\n",
    "plt.legend()\n",
    "plt.show()"
   ]
  },
  {
   "cell_type": "code",
   "execution_count": 4,
   "metadata": {},
   "outputs": [
    {
     "data": {
      "text/plain": [
       "64"
      ]
     },
     "execution_count": 4,
     "metadata": {},
     "output_type": "execute_result"
    }
   ],
   "source": [
    "len(item)"
   ]
  },
  {
   "cell_type": "code",
   "execution_count": null,
   "metadata": {},
   "outputs": [],
   "source": []
  }
 ],
 "metadata": {
  "interpreter": {
   "hash": "916dbcbb3f70747c44a77c7bcd40155683ae19c65e1c03b4aa3499c5328201f1"
  },
  "kernelspec": {
   "display_name": "Python 3.9.2 64-bit",
   "name": "python3"
  },
  "language_info": {
   "codemirror_mode": {
    "name": "ipython",
    "version": 3
   },
   "file_extension": ".py",
   "mimetype": "text/x-python",
   "name": "python",
   "nbconvert_exporter": "python",
   "pygments_lexer": "ipython3",
   "version": "3.9.2"
  },
  "orig_nbformat": 4
 },
 "nbformat": 4,
 "nbformat_minor": 2
}
